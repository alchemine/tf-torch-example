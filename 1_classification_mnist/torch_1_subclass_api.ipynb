{
 "cells": [
  {
   "cell_type": "markdown",
   "id": "bafbe2ae",
   "metadata": {
    "pycharm": {
     "name": "#%% md\n"
    }
   },
   "source": [
    "# Import Packages"
   ]
  },
  {
   "cell_type": "code",
   "execution_count": 1,
   "id": "542ecc47",
   "metadata": {
    "pycharm": {
     "name": "#%%\n"
    }
   },
   "outputs": [
    {
     "name": "stderr",
     "output_type": "stream",
     "text": [
      "2022-07-31 12:16:37.069757: I tensorflow/core/util/util.cc:169] oneDNN custom operations are on. You may see slightly different numerical results due to floating-point round-off errors from different computation orders. To turn them off, set the environment variable `TF_ENABLE_ONEDNN_OPTS=0`.\n"
     ]
    }
   ],
   "source": [
    "#!pip install seaborn livelossplot pytorchsummary torchmetrics\n",
    "\n",
    "%matplotlib inline\n",
    "\n",
    "import os\n",
    "from os.path import join\n",
    "\n",
    "import numpy as np\n",
    "import pandas as pd\n",
    "import matplotlib.pyplot as plt\n",
    "import seaborn as sns\n",
    "from tqdm import tqdm\n",
    "plt.style.use('ggplot')\n",
    "from livelossplot import PlotLosses\n",
    "\n",
    "from tensorflow import keras\n",
    "\n",
    "import torch\n",
    "from torch import nn\n",
    "import torch.nn.functional as F\n",
    "from torch.utils.data import Dataset, DataLoader\n",
    "from torchsummary import summary as summary_\n",
    "# import torchvision as tv\n",
    "# from torchvision.transforms import ToTensor\n",
    "import torchmetrics as tm\n",
    "\n",
    "def set_random_seed_torch(seed):\n",
    "    torch.manual_seed(seed)\n",
    "    torch.cuda.manual_seed(seed)\n",
    "    torch.backends.cudnn.deterministic = True\n",
    "    torch.backends.cudnn.benchmark = True\n",
    "\n",
    "SEED = 42    \n",
    "set_random_seed_torch(SEED)\n",
    "\n",
    "device = torch.device(\"cuda:0\" if torch.cuda.is_available() else \"cpu\")"
   ]
  },
  {
   "cell_type": "markdown",
   "id": "f8188125",
   "metadata": {
    "pycharm": {
     "name": "#%% md\n"
    }
   },
   "source": [
    "# 1. Load dataset"
   ]
  },
  {
   "cell_type": "code",
   "execution_count": 2,
   "id": "47799dba",
   "metadata": {
    "pycharm": {
     "name": "#%%\n"
    }
   },
   "outputs": [],
   "source": [
    "(x_train, y_train), (x_test, y_test) = keras.datasets.mnist.load_data()\n",
    "# training_data = tv.datasets.MNIST(root='data', download=True, train=True, transform=ToTensor())\n",
    "# test_data     = tv.datasets.MNIST(root='data', download=True, train=False, transform=ToTensor())"
   ]
  },
  {
   "cell_type": "markdown",
   "id": "70a74742",
   "metadata": {
    "pycharm": {
     "name": "#%% md\n"
    }
   },
   "source": [
    "# 2. Preprocessing"
   ]
  },
  {
   "cell_type": "code",
   "execution_count": 3,
   "id": "bcf102e8",
   "metadata": {
    "pycharm": {
     "name": "#%%\n"
    }
   },
   "outputs": [],
   "source": [
    "x_train, x_test = x_train / 255, x_test / 255\n",
    "x_train = x_train[:, None, :, :].astype('float32')  # (B, H, W) -> (B, C, H, W)\n",
    "x_test  = x_test[:, None, :, :].astype('float32')"
   ]
  },
  {
   "cell_type": "code",
   "execution_count": 4,
   "id": "de946cc3",
   "metadata": {
    "pycharm": {
     "name": "#%%\n"
    }
   },
   "outputs": [
    {
     "name": "stdout",
     "output_type": "stream",
     "text": [
      "- Training(X, y): (60000, 1, 28, 28) (60000,)\n",
      "- Test(X, y): (10000, 1, 28, 28) (10000,)\n",
      "- Number of classes: 10\n"
     ]
    }
   ],
   "source": [
    "INPUT_SHAPE  = x_train[0].shape\n",
    "OUTPUT_SHAPE = 1\n",
    "N_CLASSES    = len(np.unique(y_train))\n",
    "\n",
    "print(\"- Training(X, y):\", x_train.shape, y_train.shape)\n",
    "print(\"- Test(X, y):\", x_test.shape, y_test.shape)\n",
    "print(\"- Number of classes:\", N_CLASSES)"
   ]
  },
  {
   "cell_type": "code",
   "execution_count": 5,
   "id": "7f0f6a94",
   "metadata": {
    "pycharm": {
     "name": "#%%\n"
    }
   },
   "outputs": [],
   "source": [
    "def generate_dataloader_torch(X, y=None, batch_size=32, shuffle=True):\n",
    "    \"\"\"Generate TensorFlow dataset from array-like data (X, y)\n",
    "\n",
    "    Parameters\n",
    "    ----------\n",
    "    X : array-like\n",
    "        Input data\n",
    "\n",
    "    y : numpy.ndarray (default=None)\n",
    "        Output data\n",
    "\n",
    "    batch_size : int (default=32)\n",
    "        Batch size\n",
    "\n",
    "    shuffle : bool (default=True)\n",
    "        Whether to shuffle data\n",
    "\n",
    "    Returns\n",
    "    -------\n",
    "    PyTorch dataloader : torch.utils.data.DataLoader\n",
    "        Generated dataloader\n",
    "    \"\"\"\n",
    "    from torch.utils.data import Dataset, DataLoader\n",
    "    \n",
    "    class CustomDataset(Dataset):\n",
    "        def __init__(self, X, y=None):\n",
    "            self.X = torch.tensor(X, device=device)\n",
    "            if y is None:\n",
    "                y = torch.zeros(len(self.X), device=device)  # dummy\n",
    "            self.y = torch.tensor(y, device=device, dtype=torch.long)\n",
    "        def __len__(self):\n",
    "            return len(self.X)\n",
    "        def __getitem__(self, idx):\n",
    "            return self.X[idx], self.y[idx]\n",
    "\n",
    "    # 1. Generate dataset\n",
    "    X = np.array(X, dtype=np.float32)\n",
    "    if y is not None:\n",
    "        y = np.array(y, dtype=np.float32)\n",
    "        ds = CustomDataset(X, y)\n",
    "    else:\n",
    "        ds = CustomDataset(X)\n",
    "\n",
    "    # 2. Generate dataloader\n",
    "    return DataLoader(ds, batch_size=batch_size, shuffle=shuffle)\n",
    "\n",
    "train_dl = generate_dataloader_torch(x_train, y_train)\n",
    "test_dl  = generate_dataloader_torch(x_test, y_test)"
   ]
  },
  {
   "cell_type": "markdown",
   "id": "c9ade573",
   "metadata": {
    "pycharm": {
     "name": "#%% md\n"
    }
   },
   "source": [
    "# 3. Modeling"
   ]
  },
  {
   "cell_type": "code",
   "execution_count": 6,
   "id": "16dcf43f",
   "metadata": {
    "pycharm": {
     "name": "#%%\n"
    }
   },
   "outputs": [
    {
     "name": "stderr",
     "output_type": "stream",
     "text": [
      "/opt/conda/envs/tf_torch/lib/python3.8/site-packages/torch/nn/modules/lazy.py:178: UserWarning: Lazy modules are a new feature under heavy development so changes to the API or functionality can happen at any moment.\n",
      "  warnings.warn('Lazy modules are a new feature under heavy development '\n"
     ]
    },
    {
     "name": "stdout",
     "output_type": "stream",
     "text": [
      "----------------------------------------------------------------\n",
      "        Layer (type)               Output Shape         Param #\n",
      "================================================================\n",
      "            Conv2d-1           [-1, 32, 26, 26]             320\n",
      "            Linear-2                  [-1, 128]       2,769,024\n",
      "            Linear-3                   [-1, 10]           1,290\n",
      "================================================================\n",
      "Total params: 2,770,634\n",
      "Trainable params: 2,770,634\n",
      "Non-trainable params: 0\n",
      "----------------------------------------------------------------\n",
      "Input size (MB): 0.00\n",
      "Forward/backward pass size (MB): 0.17\n",
      "Params size (MB): 10.57\n",
      "Estimated Total Size (MB): 10.74\n",
      "----------------------------------------------------------------\n"
     ]
    }
   ],
   "source": [
    "FILTERS = 32\n",
    "KERNEL_SIZE = 3\n",
    "UNITS   = 128\n",
    "\n",
    "\n",
    "class MyModel(nn.Module):\n",
    "    def __init__(self, filters, kernel_size, units, n_classes, input_shape):\n",
    "        super().__init__()\n",
    "        self.input_shape = input_shape\n",
    "        self.conv1 = nn.LazyConv2d(filters, kernel_size)\n",
    "        self.d1 = nn.LazyLinear(units)\n",
    "        self.output = nn.LazyLinear(n_classes)\n",
    "    def forward(self, x):\n",
    "        x = F.relu(self.conv1(x))\n",
    "        x = x.flatten(start_dim=1)\n",
    "        x = F.relu(self.d1(x))\n",
    "        logits = self.output(x)\n",
    "        return logits\n",
    "    def summary(self):\n",
    "        summary_(self, self.input_shape)\n",
    "        \n",
    "    \n",
    "model = MyModel(FILTERS, KERNEL_SIZE, UNITS, N_CLASSES, INPUT_SHAPE).to(device)\n",
    "\n",
    "criterion = nn.CrossEntropyLoss()\n",
    "get_acc   = tm.Accuracy(num_classes=N_CLASSES).to(device)\n",
    "optimizer = torch.optim.Adam(model.parameters())\n",
    "\n",
    "model.summary()"
   ]
  },
  {
   "cell_type": "markdown",
   "id": "09ff08b4",
   "metadata": {
    "pycharm": {
     "name": "#%% md\n"
    }
   },
   "source": [
    "# 4. Training"
   ]
  },
  {
   "cell_type": "code",
   "execution_count": 7,
   "id": "93fd7b2e",
   "metadata": {
    "pycharm": {
     "name": "#%%\n"
    }
   },
   "outputs": [],
   "source": [
    "def train_step(images, labels):\n",
    "    probs = model(images)\n",
    "    loss = criterion(probs, labels)\n",
    "    acc  = get_acc(probs.argmax(1), labels)\n",
    "    optimizer.zero_grad()\n",
    "    loss.backward()\n",
    "    optimizer.step()\n",
    "\n",
    "    return loss, acc\n",
    "    \n",
    "def test_step(images, labels):\n",
    "    probs = model(images)\n",
    "    loss = criterion(probs, labels)\n",
    "    acc  = get_acc(probs.argmax(1), labels)\n",
    "    return loss, acc"
   ]
  },
  {
   "cell_type": "code",
   "execution_count": 8,
   "id": "53011672",
   "metadata": {
    "pycharm": {
     "name": "#%%\n"
    }
   },
   "outputs": [
    {
     "data": {
      "image/png": "[encoded data removed]",
      "text/plain": [
       "<Figure size 864x576 with 2 Axes>"
      ]
     },
     "metadata": {},
     "output_type": "display_data"
    },
    {
     "name": "stderr",
     "output_type": "stream",
     "text": [
      "100%|██████████| 5/5 [00:34<00:00,  6.96s/it]"
     ]
    },
    {
     "name": "stdout",
     "output_type": "stream",
     "text": [
      "Accuracy\n",
      "\ttraining         \t (min:    0.969, max:    1.000, cur:    1.000)\n",
      "\tvalidation       \t (min:    0.938, max:    1.000, cur:    1.000)\n",
      "Loss\n",
      "\ttraining         \t (min:    0.001, max:    0.063, cur:    0.001)\n",
      "\tvalidation       \t (min:    0.000, max:    0.206, cur:    0.000)\n"
     ]
    },
    {
     "name": "stderr",
     "output_type": "stream",
     "text": [
      "\n"
     ]
    }
   ],
   "source": [
    "EPOCHS = 5\n",
    "liveloss = PlotLosses()\n",
    "\n",
    "rst = pd.DataFrame(columns=['loss', 'acc', 'val_loss', 'val_acc'], index=pd.Index([], name='Epoch'))\n",
    "for epoch in tqdm(range(1, EPOCHS+1)):\n",
    "    for images, labels in train_dl:\n",
    "        loss, acc = train_step(images, labels)\n",
    "\n",
    "    with torch.no_grad():\n",
    "        for test_images, test_labels in test_dl:\n",
    "            val_loss, val_acc = test_step(test_images, test_labels)\n",
    "    \n",
    "    rst.loc[epoch] = list(map(float, [loss, acc, val_loss, val_acc]))\n",
    "    liveloss.update(rst.loc[epoch])\n",
    "    liveloss.send()"
   ]
  }
 ],
 "metadata": {
  "kernelspec": {
   "display_name": "tf_torch",
   "language": "python",
   "name": "tf_torch"
  },
  "language_info": {
   "codemirror_mode": {
    "name": "ipython",
    "version": 3
   },
   "file_extension": ".py",
   "mimetype": "text/x-python",
   "name": "python",
   "nbconvert_exporter": "python",
   "pygments_lexer": "ipython3",
   "version": "3.8.13"
  }
 },
 "nbformat": 4,
 "nbformat_minor": 5
}
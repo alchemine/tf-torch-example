{
 "cells": [
  {
   "cell_type": "markdown",
   "id": "bafbe2ae",
   "metadata": {},
   "source": [
    "# Import Packages"
   ]
  },
  {
   "cell_type": "code",
   "execution_count": 1,
   "id": "542ecc47",
   "metadata": {},
   "outputs": [
    {
     "name": "stderr",
     "output_type": "stream",
     "text": [
      "2022-07-31 12:16:27.249705: I tensorflow/core/util/util.cc:169] oneDNN custom operations are on. You may see slightly different numerical results due to floating-point round-off errors from different computation orders. To turn them off, set the environment variable `TF_ENABLE_ONEDNN_OPTS=0`.\n"
     ]
    }
   ],
   "source": [
    "#!pip install seaborn livelossplot\n",
    "\n",
    "%matplotlib inline\n",
    "\n",
    "import os\n",
    "from os.path import join\n",
    "\n",
    "import numpy as np\n",
    "import pandas as pd\n",
    "import matplotlib.pyplot as plt\n",
    "import seaborn as sns\n",
    "from tqdm import tqdm\n",
    "plt.style.use('ggplot')\n",
    "\n",
    "import tensorflow as tf\n",
    "from tensorflow import keras\n",
    "from tensorflow.keras import layers, losses, metrics, optimizers\n",
    "from livelossplot import PlotLosses\n",
    "\n",
    "def set_random_seed_tf(seed):\n",
    "    os.environ['PYTHONHASHSEED'] = str(seed)\n",
    "    tf.keras.utils.set_random_seed(seed)\n",
    "    tf.config.experimental.enable_op_determinism()\n",
    "\n",
    "SEED = 42    \n",
    "set_random_seed_tf(SEED)"
   ]
  },
  {
   "cell_type": "markdown",
   "id": "f8188125",
   "metadata": {},
   "source": [
    "# 1. Load dataset"
   ]
  },
  {
   "cell_type": "code",
   "execution_count": 2,
   "id": "47799dba",
   "metadata": {},
   "outputs": [],
   "source": [
    "(x_train, y_train), (x_test, y_test) = keras.datasets.mnist.load_data()"
   ]
  },
  {
   "cell_type": "markdown",
   "id": "70a74742",
   "metadata": {},
   "source": [
    "# 2. Preprocessing"
   ]
  },
  {
   "cell_type": "code",
   "execution_count": 3,
   "id": "bcf102e8",
   "metadata": {},
   "outputs": [],
   "source": [
    "x_train, x_test = x_train / 255, x_test / 255\n",
    "x_train = x_train[..., None].astype(\"float32\")  # (B, H, W) -> (B, H, W, 1)\n",
    "x_test  = x_test[..., None].astype('float32')"
   ]
  },
  {
   "cell_type": "code",
   "execution_count": 4,
   "id": "de946cc3",
   "metadata": {},
   "outputs": [
    {
     "name": "stdout",
     "output_type": "stream",
     "text": [
      "- Training(X, y): (60000, 28, 28, 1) (60000,)\n",
      "- Test(X, y): (10000, 28, 28, 1) (10000,)\n",
      "- Number of classes: 10\n"
     ]
    }
   ],
   "source": [
    "INPUT_SHAPE  = x_train[0].shape\n",
    "OUTPUT_SHAPE = 1\n",
    "N_CLASSES    = len(np.unique(y_train))\n",
    "\n",
    "print(\"- Training(X, y):\", x_train.shape, y_train.shape)\n",
    "print(\"- Test(X, y):\", x_test.shape, y_test.shape)\n",
    "print(\"- Number of classes:\", N_CLASSES)"
   ]
  },
  {
   "cell_type": "code",
   "execution_count": 5,
   "id": "7f0f6a94",
   "metadata": {},
   "outputs": [
    {
     "name": "stderr",
     "output_type": "stream",
     "text": [
      "2022-07-31 12:16:29.220873: I tensorflow/stream_executor/cuda/cuda_gpu_executor.cc:961] could not open file to read NUMA node: /sys/bus/pci/devices/0000:01:00.0/numa_node\n",
      "Your kernel may have been built without NUMA support.\n",
      "2022-07-31 12:16:29.226979: I tensorflow/stream_executor/cuda/cuda_gpu_executor.cc:961] could not open file to read NUMA node: /sys/bus/pci/devices/0000:01:00.0/numa_node\n",
      "Your kernel may have been built without NUMA support.\n",
      "2022-07-31 12:16:29.227347: I tensorflow/stream_executor/cuda/cuda_gpu_executor.cc:961] could not open file to read NUMA node: /sys/bus/pci/devices/0000:01:00.0/numa_node\n",
      "Your kernel may have been built without NUMA support.\n",
      "2022-07-31 12:16:29.227678: I tensorflow/core/platform/cpu_feature_guard.cc:193] This TensorFlow binary is optimized with oneAPI Deep Neural Network Library (oneDNN) to use the following CPU instructions in performance-critical operations:  AVX2 AVX_VNNI FMA\n",
      "To enable them in other operations, rebuild TensorFlow with the appropriate compiler flags.\n",
      "2022-07-31 12:16:29.229587: I tensorflow/stream_executor/cuda/cuda_gpu_executor.cc:961] could not open file to read NUMA node: /sys/bus/pci/devices/0000:01:00.0/numa_node\n",
      "Your kernel may have been built without NUMA support.\n",
      "2022-07-31 12:16:29.229928: I tensorflow/stream_executor/cuda/cuda_gpu_executor.cc:961] could not open file to read NUMA node: /sys/bus/pci/devices/0000:01:00.0/numa_node\n",
      "Your kernel may have been built without NUMA support.\n",
      "2022-07-31 12:16:29.230208: I tensorflow/stream_executor/cuda/cuda_gpu_executor.cc:961] could not open file to read NUMA node: /sys/bus/pci/devices/0000:01:00.0/numa_node\n",
      "Your kernel may have been built without NUMA support.\n",
      "2022-07-31 12:16:29.740754: I tensorflow/stream_executor/cuda/cuda_gpu_executor.cc:961] could not open file to read NUMA node: /sys/bus/pci/devices/0000:01:00.0/numa_node\n",
      "Your kernel may have been built without NUMA support.\n",
      "2022-07-31 12:16:29.741209: I tensorflow/stream_executor/cuda/cuda_gpu_executor.cc:961] could not open file to read NUMA node: /sys/bus/pci/devices/0000:01:00.0/numa_node\n",
      "Your kernel may have been built without NUMA support.\n",
      "2022-07-31 12:16:29.741227: I tensorflow/core/common_runtime/gpu/gpu_device.cc:1616] Could not identify NUMA node of platform GPU id 0, defaulting to 0.  Your kernel may not have been built with NUMA support.\n",
      "2022-07-31 12:16:29.741535: I tensorflow/stream_executor/cuda/cuda_gpu_executor.cc:961] could not open file to read NUMA node: /sys/bus/pci/devices/0000:01:00.0/numa_node\n",
      "Your kernel may have been built without NUMA support.\n",
      "2022-07-31 12:16:29.741579: I tensorflow/core/common_runtime/gpu/gpu_device.cc:1532] Created device /job:localhost/replica:0/task:0/device:GPU:0 with 801 MB memory:  -> device: 0, name: NVIDIA GeForce RTX 3080, pci bus id: 0000:01:00.0, compute capability: 8.6\n"
     ]
    }
   ],
   "source": [
    "def generate_dataset_tf(X, y=None, batch_size=32, shuffle=True):\n",
    "    \"\"\"Generate TensorFlow dataset from array-like data (X, y)\n",
    "\n",
    "    Parameters\n",
    "    ----------\n",
    "    X : array-like\n",
    "        Input data\n",
    "\n",
    "    y : numpy.ndarray (default=None)\n",
    "        Output data\n",
    "\n",
    "    batch_size : int (default=32)\n",
    "        Batch size\n",
    "\n",
    "    shuffle : bool (default=True)\n",
    "        Whether to shuffle data\n",
    "\n",
    "    Returns\n",
    "    -------\n",
    "    TensorFlow dataset : tf.data.Dataset\n",
    "        Generated dataset\n",
    "    \"\"\"\n",
    "    # 1. Convert dtype to float32\n",
    "    X = np.array(X, dtype=np.float32)\n",
    "    if y is not None:\n",
    "        y = np.array(y, dtype=np.float32)\n",
    "\n",
    "    # 2. Generate TensorFlow dataset\n",
    "    if y is None:\n",
    "        ds = tf.data.Dataset.from_tensor_slices(X)\n",
    "    else:\n",
    "        ds = tf.data.Dataset.from_tensor_slices((X, y))\n",
    "\n",
    "    # 3. Options\n",
    "    if shuffle:\n",
    "        ds = ds.shuffle(buffer_size=10000)\n",
    "    return ds.batch(batch_size).cache().prefetch(tf.data.AUTOTUNE)\n",
    "\n",
    "train_ds = generate_dataset_tf(x_train, y_train)\n",
    "test_ds = generate_dataset_tf(x_test, y_test)"
   ]
  },
  {
   "cell_type": "markdown",
   "id": "c9ade573",
   "metadata": {},
   "source": [
    "# 3. Modeling"
   ]
  },
  {
   "cell_type": "code",
   "execution_count": 6,
   "id": "16dcf43f",
   "metadata": {},
   "outputs": [
    {
     "name": "stdout",
     "output_type": "stream",
     "text": [
      "Model: \"model\"\n",
      "_________________________________________________________________\n",
      " Layer (type)                Output Shape              Param #   \n",
      "=================================================================\n",
      " input_1 (InputLayer)        [(None, 28, 28, 1)]       0         \n",
      "                                                                 \n",
      " conv2d (Conv2D)             (None, 26, 26, 32)        320       \n",
      "                                                                 \n",
      " flatten (Flatten)           (None, 21632)             0         \n",
      "                                                                 \n",
      " dense (Dense)               (None, 128)               2769024   \n",
      "                                                                 \n",
      " dense_1 (Dense)             (None, 10)                1290      \n",
      "                                                                 \n",
      "=================================================================\n",
      "Total params: 2,770,634\n",
      "Trainable params: 2,770,634\n",
      "Non-trainable params: 0\n",
      "_________________________________________________________________\n"
     ]
    }
   ],
   "source": [
    "FILTERS = 32\n",
    "KERNEL_SIZE = 3\n",
    "UNITS   = 128\n",
    "\n",
    "def get_model(filters, kernel_size, units, n_classes, input_shape):\n",
    "    inputs = keras.Input(input_shape)\n",
    "    x = layers.Conv2D(filters, kernel_size, activation='relu')(inputs)\n",
    "    x = layers.Flatten()(x)\n",
    "    x = layers.Dense(units, activation='relu')(x)\n",
    "    outputs = layers.Dense(n_classes)(x)\n",
    "    return keras.Model(inputs=inputs, outputs=outputs)\n",
    "\n",
    "\n",
    "model = get_model(FILTERS, KERNEL_SIZE, UNITS, N_CLASSES, INPUT_SHAPE)\n",
    "\n",
    "loss_fn = losses.SparseCategoricalCrossentropy(from_logits=True)  # (true, pred)\n",
    "optimizer = optimizers.Adam()\n",
    "\n",
    "train_loss = metrics.Mean(name='train_loss')\n",
    "train_acc  = metrics.SparseCategoricalAccuracy(name='train_accuracy')\n",
    "\n",
    "test_loss = metrics.Mean(name='test_loss')\n",
    "test_acc  = metrics.SparseCategoricalAccuracy(name='test_accuracy')\n",
    "\n",
    "model.build(x_train.shape)\n",
    "model.summary()"
   ]
  },
  {
   "cell_type": "markdown",
   "id": "09ff08b4",
   "metadata": {},
   "source": [
    "# 4. Training"
   ]
  },
  {
   "cell_type": "code",
   "execution_count": 7,
   "id": "93fd7b2e",
   "metadata": {},
   "outputs": [],
   "source": [
    "def reset_metrics(*metrics):\n",
    "    for metric in metrics:\n",
    "        metric.reset_states()\n",
    "        \n",
    "@tf.function\n",
    "def train_step(images, labels):\n",
    "    with tf.GradientTape() as tape:\n",
    "        predictions = model(images, training=True)\n",
    "        loss = loss_fn(labels, predictions)\n",
    "    gradients = tape.gradient(loss, model.trainable_variables)\n",
    "    optimizer.apply_gradients(zip(gradients, model.trainable_variables))\n",
    "    \n",
    "    train_loss(loss)\n",
    "    train_acc(labels, predictions)\n",
    "    \n",
    "@tf.function\n",
    "def test_step(images, labels):\n",
    "    predictions = model(images, training=False)\n",
    "    t_loss = loss_fn(labels, predictions)\n",
    "    test_loss(t_loss)\n",
    "    test_acc(labels, predictions)"
   ]
  },
  {
   "cell_type": "code",
   "execution_count": 8,
   "id": "53011672",
   "metadata": {},
   "outputs": [
    {
     "data": {
      "image/png": "[encoded data removed]",
      "text/plain": [
       "<Figure size 864x576 with 2 Axes>"
      ]
     },
     "metadata": {},
     "output_type": "display_data"
    },
    {
     "name": "stderr",
     "output_type": "stream",
     "text": [
      "100%|██████████| 5/5 [01:33<00:00, 18.71s/it]"
     ]
    },
    {
     "name": "stdout",
     "output_type": "stream",
     "text": [
      "Accuracy\n",
      "\ttraining         \t (min:   95.875, max:   99.695, cur:   99.695)\n",
      "\tvalidation       \t (min:   97.770, max:   98.150, cur:   97.770)\n",
      "Loss\n",
      "\ttraining         \t (min:    0.009, max:    0.135, cur:    0.009)\n",
      "\tvalidation       \t (min:    0.058, max:    0.087, cur:    0.087)\n"
     ]
    },
    {
     "name": "stderr",
     "output_type": "stream",
     "text": [
      "\n"
     ]
    }
   ],
   "source": [
    "EPOCHS = 5\n",
    "liveloss = PlotLosses()\n",
    "\n",
    "for epoch in tqdm(range(EPOCHS)):\n",
    "    reset_metrics(train_loss, train_acc, test_loss, test_acc)\n",
    "    \n",
    "    for images, labels in train_ds:\n",
    "        train_step(images, labels)\n",
    "    \n",
    "    for test_images, test_labels in test_ds:\n",
    "        test_step(test_images, test_labels)\n",
    "    \n",
    "    liveloss.update({'loss': train_loss.result(),\n",
    "                     'val_loss': test_loss.result(),\n",
    "                     'acc': train_acc.result()*100,\n",
    "                     'val_acc': test_acc.result()*100})\n",
    "    liveloss.send()"
   ]
  }
 ],
 "metadata": {
  "kernelspec": {
   "display_name": "tf_torch",
   "language": "python",
   "name": "tf_torch"
  },
  "language_info": {
   "codemirror_mode": {
    "name": "ipython",
    "version": 3
   },
   "file_extension": ".py",
   "mimetype": "text/x-python",
   "name": "python",
   "nbconvert_exporter": "python",
   "pygments_lexer": "ipython3",
   "version": "3.8.13"
  }
 },
 "nbformat": 4,
 "nbformat_minor": 5
}
